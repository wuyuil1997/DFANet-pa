{
 "cells": [
  {
   "cell_type": "code",
   "execution_count": 3,
   "metadata": {},
   "outputs": [
    {
     "data": {
      "text/plain": [
       "'f = zipfile.ZipFile(\"../CamvidData/LabeledApproved_full.zip\",\\'r\\') # 原压缩文件在服务器的位置\\nfor file in f.namelist():\\n    f.extract(file,\"../CamvidData/labels\")               # 解压到的位置\\nf.close()'"
      ]
     },
     "execution_count": 3,
     "metadata": {},
     "output_type": "execute_result"
    }
   ],
   "source": [
    "import zipfile\n",
    "import os \n",
    "\n",
    "os.getcwd()\n",
    "\n",
    "f = zipfile.ZipFile(\"../CamvidData/701_StillsRaw_full.zip\",'r') # 原压缩文件在服务器的位置\n",
    "for file in f.namelist():\n",
    "    f.extract(file,\"../CamvidData/images\")               # 解压到的位置\n",
    "f.close()\n",
    "\n",
    "f = zipfile.ZipFile(\"../CamvidData/LabeledApproved_full.zip\",'r') # 原压缩文件在服务器的位置\n",
    "for file in f.namelist():\n",
    "    f.extract(file,\"../CamvidData/labels\")               # 解压到的位置\n",
    "f.close()"
   ]
  }
 ],
 "metadata": {
  "kernelspec": {
   "display_name": "Python 3",
   "language": "python",
   "name": "python3"
  },
  "language_info": {
   "codemirror_mode": {
    "name": "ipython",
    "version": 3
   },
   "file_extension": ".py",
   "mimetype": "text/x-python",
   "name": "python",
   "nbconvert_exporter": "python",
   "pygments_lexer": "ipython3",
   "version": "3.7.0"
  }
 },
 "nbformat": 4,
 "nbformat_minor": 2
}
